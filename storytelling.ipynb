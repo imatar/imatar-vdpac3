{
  "nbformat": 4,
  "nbformat_minor": 0,
  "metadata": {
    "colab": {
      "provenance": [],
      "authorship_tag": "ABX9TyMIz3fiQ8Bk+u0u61D921t4",
      "include_colab_link": true
    },
    "kernelspec": {
      "name": "python3",
      "display_name": "Python 3"
    },
    "language_info": {
      "name": "python"
    }
  },
  "cells": [
    {
      "cell_type": "markdown",
      "metadata": {
        "id": "view-in-github",
        "colab_type": "text"
      },
      "source": [
        "<a href=\"https://colab.research.google.com/github/imatar/imatar-vdpac3/blob/main/storytelling.ipynb\" target=\"_parent\"><img src=\"https://colab.research.google.com/assets/colab-badge.svg\" alt=\"Open In Colab\"/></a>"
      ]
    },
    {
      "cell_type": "code",
      "source": [
        "# Importar les llibreries\n",
        "import pandas as pd\n",
        "import matplotlib.pyplot as plt\n",
        "import seaborn as sns\n",
        "import plotly.express as px\n",
        "from plotly.subplots import make_subplots\n",
        "import plotly.graph_objects as go"
      ],
      "metadata": {
        "id": "lb868ULqY_XF"
      },
      "execution_count": 1,
      "outputs": []
    },
    {
      "cell_type": "code",
      "source": [
        "# Carregar el dataset\n",
        "from google.colab import drive\n",
        "drive.mount(\"/content/drive\")\n",
        "\n",
        "# Llegeir les dades\n",
        "hotel_data = pd.read_csv(\n",
        "    \"/content/drive/My Drive/Visualització de dades\" +\n",
        "    \"/hotel_bookings_clean.csv\"\n",
        "    )\n",
        "# Mostrar les dades\n",
        "hotel_data.head()"
      ],
      "metadata": {
        "colab": {
          "base_uri": "https://localhost:8080/",
          "height": 360
        },
        "id": "2ZAZh8vFY4Iq",
        "outputId": "f71e683a-f168-4e5f-f63e-8a6e37e18856"
      },
      "execution_count": 3,
      "outputs": [
        {
          "output_type": "stream",
          "name": "stdout",
          "text": [
            "Mounted at /content/drive\n"
          ]
        },
        {
          "output_type": "execute_result",
          "data": {
            "text/plain": [
              "          hotel  is_canceled  lead_time  arrival_date_year arrival_date_month  \\\n",
              "0  Resort Hotel          0.0        7.0             2015.0               July   \n",
              "1  Resort Hotel          0.0       13.0             2015.0               July   \n",
              "2  Resort Hotel          0.0       14.0             2015.0               July   \n",
              "3  Resort Hotel          0.0       14.0             2015.0               July   \n",
              "4  Resort Hotel          0.0        0.0             2015.0               July   \n",
              "\n",
              "   arrival_date_week_number  arrival_date_day_of_month  \\\n",
              "0                      27.0                        1.0   \n",
              "1                      27.0                        1.0   \n",
              "2                      27.0                        1.0   \n",
              "3                      27.0                        1.0   \n",
              "4                      27.0                        1.0   \n",
              "\n",
              "   stays_in_weekend_nights  stays_in_week_nights  adults  ...  company  \\\n",
              "0                      0.0                   1.0     1.0  ...      NaN   \n",
              "1                      0.0                   1.0     1.0  ...      NaN   \n",
              "2                      0.0                   2.0     2.0  ...      NaN   \n",
              "3                      0.0                   2.0     2.0  ...      NaN   \n",
              "4                      0.0                   2.0     2.0  ...      NaN   \n",
              "\n",
              "   days_in_waiting_list customer_type    adr required_car_parking_spaces  \\\n",
              "0                   0.0     Transient   75.0                         0.0   \n",
              "1                   0.0     Transient   75.0                         0.0   \n",
              "2                   0.0     Transient   98.0                         0.0   \n",
              "3                   0.0     Transient   98.0                         0.0   \n",
              "4                   0.0     Transient  107.0                         0.0   \n",
              "\n",
              "  total_of_special_requests  reservation_status  reservation_status_date  \\\n",
              "0                       0.0           Check-Out               2015-07-02   \n",
              "1                       0.0           Check-Out               2015-07-02   \n",
              "2                       1.0           Check-Out               2015-07-03   \n",
              "3                       1.0           Check-Out               2015-07-03   \n",
              "4                       0.0           Check-Out               2015-07-03   \n",
              "\n",
              "          dia  tipo  \n",
              "0  2015-07-01  work  \n",
              "1  2015-07-01  work  \n",
              "2  2015-07-01  work  \n",
              "3  2015-07-01  work  \n",
              "4  2015-07-01  work  \n",
              "\n",
              "[5 rows x 34 columns]"
            ],
            "text/html": [
              "\n",
              "  <div id=\"df-966e170e-6c09-47c7-bfed-27e0b04ca44f\" class=\"colab-df-container\">\n",
              "    <div>\n",
              "<style scoped>\n",
              "    .dataframe tbody tr th:only-of-type {\n",
              "        vertical-align: middle;\n",
              "    }\n",
              "\n",
              "    .dataframe tbody tr th {\n",
              "        vertical-align: top;\n",
              "    }\n",
              "\n",
              "    .dataframe thead th {\n",
              "        text-align: right;\n",
              "    }\n",
              "</style>\n",
              "<table border=\"1\" class=\"dataframe\">\n",
              "  <thead>\n",
              "    <tr style=\"text-align: right;\">\n",
              "      <th></th>\n",
              "      <th>hotel</th>\n",
              "      <th>is_canceled</th>\n",
              "      <th>lead_time</th>\n",
              "      <th>arrival_date_year</th>\n",
              "      <th>arrival_date_month</th>\n",
              "      <th>arrival_date_week_number</th>\n",
              "      <th>arrival_date_day_of_month</th>\n",
              "      <th>stays_in_weekend_nights</th>\n",
              "      <th>stays_in_week_nights</th>\n",
              "      <th>adults</th>\n",
              "      <th>...</th>\n",
              "      <th>company</th>\n",
              "      <th>days_in_waiting_list</th>\n",
              "      <th>customer_type</th>\n",
              "      <th>adr</th>\n",
              "      <th>required_car_parking_spaces</th>\n",
              "      <th>total_of_special_requests</th>\n",
              "      <th>reservation_status</th>\n",
              "      <th>reservation_status_date</th>\n",
              "      <th>dia</th>\n",
              "      <th>tipo</th>\n",
              "    </tr>\n",
              "  </thead>\n",
              "  <tbody>\n",
              "    <tr>\n",
              "      <th>0</th>\n",
              "      <td>Resort Hotel</td>\n",
              "      <td>0.0</td>\n",
              "      <td>7.0</td>\n",
              "      <td>2015.0</td>\n",
              "      <td>July</td>\n",
              "      <td>27.0</td>\n",
              "      <td>1.0</td>\n",
              "      <td>0.0</td>\n",
              "      <td>1.0</td>\n",
              "      <td>1.0</td>\n",
              "      <td>...</td>\n",
              "      <td>NaN</td>\n",
              "      <td>0.0</td>\n",
              "      <td>Transient</td>\n",
              "      <td>75.0</td>\n",
              "      <td>0.0</td>\n",
              "      <td>0.0</td>\n",
              "      <td>Check-Out</td>\n",
              "      <td>2015-07-02</td>\n",
              "      <td>2015-07-01</td>\n",
              "      <td>work</td>\n",
              "    </tr>\n",
              "    <tr>\n",
              "      <th>1</th>\n",
              "      <td>Resort Hotel</td>\n",
              "      <td>0.0</td>\n",
              "      <td>13.0</td>\n",
              "      <td>2015.0</td>\n",
              "      <td>July</td>\n",
              "      <td>27.0</td>\n",
              "      <td>1.0</td>\n",
              "      <td>0.0</td>\n",
              "      <td>1.0</td>\n",
              "      <td>1.0</td>\n",
              "      <td>...</td>\n",
              "      <td>NaN</td>\n",
              "      <td>0.0</td>\n",
              "      <td>Transient</td>\n",
              "      <td>75.0</td>\n",
              "      <td>0.0</td>\n",
              "      <td>0.0</td>\n",
              "      <td>Check-Out</td>\n",
              "      <td>2015-07-02</td>\n",
              "      <td>2015-07-01</td>\n",
              "      <td>work</td>\n",
              "    </tr>\n",
              "    <tr>\n",
              "      <th>2</th>\n",
              "      <td>Resort Hotel</td>\n",
              "      <td>0.0</td>\n",
              "      <td>14.0</td>\n",
              "      <td>2015.0</td>\n",
              "      <td>July</td>\n",
              "      <td>27.0</td>\n",
              "      <td>1.0</td>\n",
              "      <td>0.0</td>\n",
              "      <td>2.0</td>\n",
              "      <td>2.0</td>\n",
              "      <td>...</td>\n",
              "      <td>NaN</td>\n",
              "      <td>0.0</td>\n",
              "      <td>Transient</td>\n",
              "      <td>98.0</td>\n",
              "      <td>0.0</td>\n",
              "      <td>1.0</td>\n",
              "      <td>Check-Out</td>\n",
              "      <td>2015-07-03</td>\n",
              "      <td>2015-07-01</td>\n",
              "      <td>work</td>\n",
              "    </tr>\n",
              "    <tr>\n",
              "      <th>3</th>\n",
              "      <td>Resort Hotel</td>\n",
              "      <td>0.0</td>\n",
              "      <td>14.0</td>\n",
              "      <td>2015.0</td>\n",
              "      <td>July</td>\n",
              "      <td>27.0</td>\n",
              "      <td>1.0</td>\n",
              "      <td>0.0</td>\n",
              "      <td>2.0</td>\n",
              "      <td>2.0</td>\n",
              "      <td>...</td>\n",
              "      <td>NaN</td>\n",
              "      <td>0.0</td>\n",
              "      <td>Transient</td>\n",
              "      <td>98.0</td>\n",
              "      <td>0.0</td>\n",
              "      <td>1.0</td>\n",
              "      <td>Check-Out</td>\n",
              "      <td>2015-07-03</td>\n",
              "      <td>2015-07-01</td>\n",
              "      <td>work</td>\n",
              "    </tr>\n",
              "    <tr>\n",
              "      <th>4</th>\n",
              "      <td>Resort Hotel</td>\n",
              "      <td>0.0</td>\n",
              "      <td>0.0</td>\n",
              "      <td>2015.0</td>\n",
              "      <td>July</td>\n",
              "      <td>27.0</td>\n",
              "      <td>1.0</td>\n",
              "      <td>0.0</td>\n",
              "      <td>2.0</td>\n",
              "      <td>2.0</td>\n",
              "      <td>...</td>\n",
              "      <td>NaN</td>\n",
              "      <td>0.0</td>\n",
              "      <td>Transient</td>\n",
              "      <td>107.0</td>\n",
              "      <td>0.0</td>\n",
              "      <td>0.0</td>\n",
              "      <td>Check-Out</td>\n",
              "      <td>2015-07-03</td>\n",
              "      <td>2015-07-01</td>\n",
              "      <td>work</td>\n",
              "    </tr>\n",
              "  </tbody>\n",
              "</table>\n",
              "<p>5 rows × 34 columns</p>\n",
              "</div>\n",
              "    <div class=\"colab-df-buttons\">\n",
              "\n",
              "  <div class=\"colab-df-container\">\n",
              "    <button class=\"colab-df-convert\" onclick=\"convertToInteractive('df-966e170e-6c09-47c7-bfed-27e0b04ca44f')\"\n",
              "            title=\"Convert this dataframe to an interactive table.\"\n",
              "            style=\"display:none;\">\n",
              "\n",
              "  <svg xmlns=\"http://www.w3.org/2000/svg\" height=\"24px\" viewBox=\"0 -960 960 960\">\n",
              "    <path d=\"M120-120v-720h720v720H120Zm60-500h600v-160H180v160Zm220 220h160v-160H400v160Zm0 220h160v-160H400v160ZM180-400h160v-160H180v160Zm440 0h160v-160H620v160ZM180-180h160v-160H180v160Zm440 0h160v-160H620v160Z\"/>\n",
              "  </svg>\n",
              "    </button>\n",
              "\n",
              "  <style>\n",
              "    .colab-df-container {\n",
              "      display:flex;\n",
              "      gap: 12px;\n",
              "    }\n",
              "\n",
              "    .colab-df-convert {\n",
              "      background-color: #E8F0FE;\n",
              "      border: none;\n",
              "      border-radius: 50%;\n",
              "      cursor: pointer;\n",
              "      display: none;\n",
              "      fill: #1967D2;\n",
              "      height: 32px;\n",
              "      padding: 0 0 0 0;\n",
              "      width: 32px;\n",
              "    }\n",
              "\n",
              "    .colab-df-convert:hover {\n",
              "      background-color: #E2EBFA;\n",
              "      box-shadow: 0px 1px 2px rgba(60, 64, 67, 0.3), 0px 1px 3px 1px rgba(60, 64, 67, 0.15);\n",
              "      fill: #174EA6;\n",
              "    }\n",
              "\n",
              "    .colab-df-buttons div {\n",
              "      margin-bottom: 4px;\n",
              "    }\n",
              "\n",
              "    [theme=dark] .colab-df-convert {\n",
              "      background-color: #3B4455;\n",
              "      fill: #D2E3FC;\n",
              "    }\n",
              "\n",
              "    [theme=dark] .colab-df-convert:hover {\n",
              "      background-color: #434B5C;\n",
              "      box-shadow: 0px 1px 3px 1px rgba(0, 0, 0, 0.15);\n",
              "      filter: drop-shadow(0px 1px 2px rgba(0, 0, 0, 0.3));\n",
              "      fill: #FFFFFF;\n",
              "    }\n",
              "  </style>\n",
              "\n",
              "    <script>\n",
              "      const buttonEl =\n",
              "        document.querySelector('#df-966e170e-6c09-47c7-bfed-27e0b04ca44f button.colab-df-convert');\n",
              "      buttonEl.style.display =\n",
              "        google.colab.kernel.accessAllowed ? 'block' : 'none';\n",
              "\n",
              "      async function convertToInteractive(key) {\n",
              "        const element = document.querySelector('#df-966e170e-6c09-47c7-bfed-27e0b04ca44f');\n",
              "        const dataTable =\n",
              "          await google.colab.kernel.invokeFunction('convertToInteractive',\n",
              "                                                    [key], {});\n",
              "        if (!dataTable) return;\n",
              "\n",
              "        const docLinkHtml = 'Like what you see? Visit the ' +\n",
              "          '<a target=\"_blank\" href=https://colab.research.google.com/notebooks/data_table.ipynb>data table notebook</a>'\n",
              "          + ' to learn more about interactive tables.';\n",
              "        element.innerHTML = '';\n",
              "        dataTable['output_type'] = 'display_data';\n",
              "        await google.colab.output.renderOutput(dataTable, element);\n",
              "        const docLink = document.createElement('div');\n",
              "        docLink.innerHTML = docLinkHtml;\n",
              "        element.appendChild(docLink);\n",
              "      }\n",
              "    </script>\n",
              "  </div>\n",
              "\n",
              "\n",
              "<div id=\"df-a77d823f-4d58-4c09-b4cc-43a0da5252a6\">\n",
              "  <button class=\"colab-df-quickchart\" onclick=\"quickchart('df-a77d823f-4d58-4c09-b4cc-43a0da5252a6')\"\n",
              "            title=\"Suggest charts\"\n",
              "            style=\"display:none;\">\n",
              "\n",
              "<svg xmlns=\"http://www.w3.org/2000/svg\" height=\"24px\"viewBox=\"0 0 24 24\"\n",
              "     width=\"24px\">\n",
              "    <g>\n",
              "        <path d=\"M19 3H5c-1.1 0-2 .9-2 2v14c0 1.1.9 2 2 2h14c1.1 0 2-.9 2-2V5c0-1.1-.9-2-2-2zM9 17H7v-7h2v7zm4 0h-2V7h2v10zm4 0h-2v-4h2v4z\"/>\n",
              "    </g>\n",
              "</svg>\n",
              "  </button>\n",
              "\n",
              "<style>\n",
              "  .colab-df-quickchart {\n",
              "      --bg-color: #E8F0FE;\n",
              "      --fill-color: #1967D2;\n",
              "      --hover-bg-color: #E2EBFA;\n",
              "      --hover-fill-color: #174EA6;\n",
              "      --disabled-fill-color: #AAA;\n",
              "      --disabled-bg-color: #DDD;\n",
              "  }\n",
              "\n",
              "  [theme=dark] .colab-df-quickchart {\n",
              "      --bg-color: #3B4455;\n",
              "      --fill-color: #D2E3FC;\n",
              "      --hover-bg-color: #434B5C;\n",
              "      --hover-fill-color: #FFFFFF;\n",
              "      --disabled-bg-color: #3B4455;\n",
              "      --disabled-fill-color: #666;\n",
              "  }\n",
              "\n",
              "  .colab-df-quickchart {\n",
              "    background-color: var(--bg-color);\n",
              "    border: none;\n",
              "    border-radius: 50%;\n",
              "    cursor: pointer;\n",
              "    display: none;\n",
              "    fill: var(--fill-color);\n",
              "    height: 32px;\n",
              "    padding: 0;\n",
              "    width: 32px;\n",
              "  }\n",
              "\n",
              "  .colab-df-quickchart:hover {\n",
              "    background-color: var(--hover-bg-color);\n",
              "    box-shadow: 0 1px 2px rgba(60, 64, 67, 0.3), 0 1px 3px 1px rgba(60, 64, 67, 0.15);\n",
              "    fill: var(--button-hover-fill-color);\n",
              "  }\n",
              "\n",
              "  .colab-df-quickchart-complete:disabled,\n",
              "  .colab-df-quickchart-complete:disabled:hover {\n",
              "    background-color: var(--disabled-bg-color);\n",
              "    fill: var(--disabled-fill-color);\n",
              "    box-shadow: none;\n",
              "  }\n",
              "\n",
              "  .colab-df-spinner {\n",
              "    border: 2px solid var(--fill-color);\n",
              "    border-color: transparent;\n",
              "    border-bottom-color: var(--fill-color);\n",
              "    animation:\n",
              "      spin 1s steps(1) infinite;\n",
              "  }\n",
              "\n",
              "  @keyframes spin {\n",
              "    0% {\n",
              "      border-color: transparent;\n",
              "      border-bottom-color: var(--fill-color);\n",
              "      border-left-color: var(--fill-color);\n",
              "    }\n",
              "    20% {\n",
              "      border-color: transparent;\n",
              "      border-left-color: var(--fill-color);\n",
              "      border-top-color: var(--fill-color);\n",
              "    }\n",
              "    30% {\n",
              "      border-color: transparent;\n",
              "      border-left-color: var(--fill-color);\n",
              "      border-top-color: var(--fill-color);\n",
              "      border-right-color: var(--fill-color);\n",
              "    }\n",
              "    40% {\n",
              "      border-color: transparent;\n",
              "      border-right-color: var(--fill-color);\n",
              "      border-top-color: var(--fill-color);\n",
              "    }\n",
              "    60% {\n",
              "      border-color: transparent;\n",
              "      border-right-color: var(--fill-color);\n",
              "    }\n",
              "    80% {\n",
              "      border-color: transparent;\n",
              "      border-right-color: var(--fill-color);\n",
              "      border-bottom-color: var(--fill-color);\n",
              "    }\n",
              "    90% {\n",
              "      border-color: transparent;\n",
              "      border-bottom-color: var(--fill-color);\n",
              "    }\n",
              "  }\n",
              "</style>\n",
              "\n",
              "  <script>\n",
              "    async function quickchart(key) {\n",
              "      const quickchartButtonEl =\n",
              "        document.querySelector('#' + key + ' button');\n",
              "      quickchartButtonEl.disabled = true;  // To prevent multiple clicks.\n",
              "      quickchartButtonEl.classList.add('colab-df-spinner');\n",
              "      try {\n",
              "        const charts = await google.colab.kernel.invokeFunction(\n",
              "            'suggestCharts', [key], {});\n",
              "      } catch (error) {\n",
              "        console.error('Error during call to suggestCharts:', error);\n",
              "      }\n",
              "      quickchartButtonEl.classList.remove('colab-df-spinner');\n",
              "      quickchartButtonEl.classList.add('colab-df-quickchart-complete');\n",
              "    }\n",
              "    (() => {\n",
              "      let quickchartButtonEl =\n",
              "        document.querySelector('#df-a77d823f-4d58-4c09-b4cc-43a0da5252a6 button');\n",
              "      quickchartButtonEl.style.display =\n",
              "        google.colab.kernel.accessAllowed ? 'block' : 'none';\n",
              "    })();\n",
              "  </script>\n",
              "</div>\n",
              "\n",
              "    </div>\n",
              "  </div>\n"
            ],
            "application/vnd.google.colaboratory.intrinsic+json": {
              "type": "dataframe",
              "variable_name": "hotel_data"
            }
          },
          "metadata": {},
          "execution_count": 3
        }
      ]
    },
    {
      "cell_type": "code",
      "source": [
        "# Convertir dates al format datetime\n",
        "hotel_data[\"reservation_status_date\"] = pd.to_datetime(hotel_data[\"reservation_status_date\"])\n",
        "\n",
        "# Afegeir una columna amb la durada total de l'estada\n",
        "hotel_data[\"total_nights\"] = hotel_data[\"stays_in_weekend_nights\"] + hotel_data[\"stays_in_week_nights\"]\n",
        "\n",
        "# Ordenar mesos\n",
        "month_order = [\"January\", \"February\", \"March\", \"April\", \"May\", \"June\",\n",
        "               \"July\", \"August\", \"September\", \"October\", \"November\", \"December\"]\n",
        "hotel_data[\"arrival_date_month\"] = pd.Categorical(hotel_data[\"arrival_date_month\"], categories=month_order, ordered=True)\n",
        "\n",
        "# Substituir valors nuls\n",
        "hotel_data[\"children\"] = hotel_data[\"children\"].fillna(0)\n",
        "hotel_data[\"country\"] = hotel_data[\"country\"].fillna(\"Unknown\")"
      ],
      "metadata": {
        "id": "MR444XgHaB_W"
      },
      "execution_count": null,
      "outputs": []
    },
    {
      "cell_type": "markdown",
      "source": [
        "# Visualització 1"
      ],
      "metadata": {
        "id": "VE2vB_cuyiKU"
      }
    },
    {
      "cell_type": "code",
      "source": [
        "# Gràfic de barres de les reserves per tipus d'hotel\n",
        "total_bookings = hotel_data.groupby(\"hotel\")[\"is_canceled\"].count().reset_index()\n",
        "total_bookings.rename(columns={\"is_canceled\": \"total_bookings\"}, inplace=True)\n",
        "\n",
        "fig1 = px.bar(total_bookings, x='hotel', y='total_bookings', color='hotel', title=\"Reserves totals per tipus d'hotel\",\n",
        "    labels={'total_bookings': 'Nombre de reserves', 'hotel': 'Tipus d\\'hotel'},\n",
        "    color_discrete_map={\n",
        "        'City Hotel': '#639EFA',\n",
        "        'Resort Hotel': '#AB69FA' })\n",
        "fig1.update_layout(showlegend=False)\n",
        "fig1.show()"
      ],
      "metadata": {
        "collapsed": true,
        "id": "IPp_NrrMaKr8"
      },
      "execution_count": null,
      "outputs": []
    },
    {
      "cell_type": "markdown",
      "source": [
        "# Visualització 2"
      ],
      "metadata": {
        "id": "W89MM2xTzL2z"
      }
    },
    {
      "cell_type": "code",
      "source": [
        "# Gràfic de barres de les reserves anuals per tipus d'hotel\n",
        "annual_bookings = hotel_data.groupby(['arrival_date_year', 'hotel'])['is_canceled'].count().reset_index()\n",
        "annual_bookings.rename(columns={'is_canceled': 'total_bookings'}, inplace=True)\n",
        "\n",
        "fig2 = px.bar(annual_bookings, x='arrival_date_year', y='total_bookings', color='hotel',\n",
        "                  title=\"Reserves anuals diferenciades  per tipus d'hotel\",\n",
        "                  labels={'total_bookings': 'Nombre de reserves', 'arrival_date_year': 'Any'},\n",
        "                  barmode='group',\n",
        "                  color_discrete_map={\n",
        "                  'City Hotel': '#639EFA',\n",
        "                  'Resort Hotel': '#AB69FA' })\n",
        "fig2.show()"
      ],
      "metadata": {
        "id": "1a-urzvym7HT"
      },
      "execution_count": null,
      "outputs": []
    },
    {
      "cell_type": "markdown",
      "source": [
        "# Visualització 3"
      ],
      "metadata": {
        "id": "8JwWrTHNzNMj"
      }
    },
    {
      "cell_type": "code",
      "source": [
        "# Gràfic temporal de les reserves mensuals\n",
        "hotel_data[\"count\"] = 1\n",
        "monthly_trends = hotel_data.groupby([\"arrival_date_month\", \"hotel\"])[\"count\"].sum().reset_index()\n",
        "\n",
        "# Crear el gràfic\n",
        "fig3 = px.line(monthly_trends, x=\"arrival_date_month\", y=\"count\", color=\"hotel\", title=\"Reserves mensuals per tipus d'hotel\",\n",
        "    labels={\"count\": \"Nombre de reserves\", \"arrival_date_month\": \"Mes\"}, color_discrete_map={'City Hotel': '#639EFA', 'Resort Hotel': '#AB69FA' })\n",
        "fig3.update_xaxes(categoryorder=\"array\", categoryarray=month_order)\n",
        "fig3.show()"
      ],
      "metadata": {
        "id": "Yg7sFXSlaQSz"
      },
      "execution_count": null,
      "outputs": []
    },
    {
      "cell_type": "markdown",
      "source": [
        "# Visualització 4"
      ],
      "metadata": {
        "id": "0Alm2jTYzdbj"
      }
    },
    {
      "cell_type": "code",
      "source": [
        "# Gràfic ciruclar de les cancel·lacions\n",
        "hotel_data = hotel_data.dropna(subset=['is_canceled', 'hotel'])\n",
        "fig4 = make_subplots(rows=1, cols=len(hotel_data['hotel'].unique()), subplot_titles=[\n",
        "    f\"{hotel_type}\" for hotel_type in hotel_data['hotel'].unique()],\n",
        "    specs=[[{'type': 'domain'}] * len(hotel_data['hotel'].unique())])\n",
        "\n",
        "for idx, hotel_type in enumerate(hotel_data['hotel'].unique(), start=1):\n",
        "    hotel_subset = hotel_data[hotel_data['hotel'] == hotel_type]\n",
        "    cancel_counts = hotel_subset['is_canceled'].value_counts(normalize=True).reset_index()\n",
        "    cancel_counts.columns = ['is_canceled', 'percent']\n",
        "    cancel_counts['is_canceled'] = cancel_counts['is_canceled'].map({0: 'No cancel·lat', 1: 'Cancel·lat'})\n",
        "\n",
        "    fig4.add_trace(go.Pie(labels=cancel_counts['is_canceled'], values=cancel_counts['percent'],\n",
        "                         name=hotel_type, marker=dict(colors=['forestgreen', 'firebrick'])),\n",
        "                  row=1, col=idx)\n",
        "\n",
        "fig4.update_layout(title_text=\"Percentatge de cancel·lacions per tipus d'hotel\")\n",
        "fig4.show()\n"
      ],
      "metadata": {
        "id": "TLAixWmPaM07"
      },
      "execution_count": null,
      "outputs": []
    },
    {
      "cell_type": "markdown",
      "source": [
        "# Visualització 5"
      ],
      "metadata": {
        "id": "bFxwKqWY0D30"
      }
    },
    {
      "cell_type": "code",
      "source": [
        "# Gràfic de barres de les reserves no cancel·lades\n",
        "completed_reservations = hotel_data[hotel_data['is_canceled'] == 0]\n",
        "completed_by_hotel = completed_reservations.groupby('hotel').size().reset_index(name='completed_reservations')\n",
        "\n",
        "fig5 = px.bar(\n",
        "    completed_by_hotel,\n",
        "    x='hotel',\n",
        "    y='completed_reservations',\n",
        "    color='hotel',\n",
        "    title=\"Nombre d'estades per tipus d'hotel\",\n",
        "    labels={'completed_reservations': 'Reserves No Cancel·lades', 'hotel': 'Tipus d\\'Hotel'},\n",
        "    color_discrete_map={\n",
        "        'City Hotel': '#639EFA',\n",
        "        'Resort Hotel': '#AB69FA' })\n",
        "fig5.update_layout(showlegend=False)\n",
        "fig5.show()"
      ],
      "metadata": {
        "id": "mf-Znfjmwhq8"
      },
      "execution_count": null,
      "outputs": []
    },
    {
      "cell_type": "markdown",
      "source": [
        "# Visualització 6"
      ],
      "metadata": {
        "id": "JX1UeOxqzSEJ"
      }
    },
    {
      "cell_type": "code",
      "source": [
        "# Gràfic de violí per la distribució de l'adr\n",
        "fig6 = go.Figure()\n",
        "\n",
        "color_map = {\n",
        "    'City Hotel': '#639EFA',\n",
        "    'Resort Hotel': '#AB69FA'}\n",
        "\n",
        "for hotel_type in ['City Hotel', 'Resort Hotel']:\n",
        "    fig6.add_trace(go.Violin(\n",
        "        x=hotel_data['hotel'][hotel_data['hotel'] == hotel_type],\n",
        "        y=hotel_data['adr'][hotel_data['hotel'] == hotel_type],\n",
        "        name=hotel_type,\n",
        "        meanline_visible=True,  # Mostra només la línia de la mitjana\n",
        "        box_visible=True,       # Mostra el boxplot\n",
        "        line_color=color_map[hotel_type]  # Assigna el color personalitzat\n",
        "    ))\n",
        "\n",
        "fig6.update_layout(\n",
        "    title=\"Distribució dels gastos mitjans per dia per tipus d'hotel\",\n",
        "    xaxis_title=\"Tipus d'hotel\",\n",
        "    yaxis_title=\"ADR (€)\",\n",
        "    showlegend=False)\n",
        "\n",
        "fig6.show()"
      ],
      "metadata": {
        "id": "wFFKZ3uS0iiU"
      },
      "execution_count": null,
      "outputs": []
    },
    {
      "cell_type": "markdown",
      "source": [
        "# Visualització 7"
      ],
      "metadata": {
        "id": "lSInOy134EwT"
      }
    },
    {
      "cell_type": "code",
      "source": [
        "# Gràfic de violí per la durada de les estades\n",
        "fig7 = go.Figure()\n",
        "\n",
        "for hotel_type in ['City Hotel', 'Resort Hotel']:\n",
        "    fig7.add_trace(go.Violin(\n",
        "        x=hotel_data['hotel'][hotel_data['hotel'] == hotel_type],\n",
        "        y=hotel_data['total_nights'][hotel_data['hotel'] == hotel_type],\n",
        "        name=hotel_type,\n",
        "        meanline_visible=True,\n",
        "        box_visible=True,\n",
        "         line_color=color_map[hotel_type]))\n",
        "\n",
        "fig7.update_layout(\n",
        "    title=\"Distribució de la durada de les estades per tipus d'hotel\",\n",
        "    xaxis_title=\"Tipus d'hotel\",\n",
        "    yaxis_title=\"Durada de l'estada (nits)\",\n",
        "    showlegend=False)\n",
        "\n",
        "fig7.show()"
      ],
      "metadata": {
        "id": "5G-PAGDa2Kby"
      },
      "execution_count": null,
      "outputs": []
    },
    {
      "cell_type": "markdown",
      "source": [
        "# VIsualització 8"
      ],
      "metadata": {
        "id": "z8JO1h2g4JSo"
      }
    },
    {
      "cell_type": "code",
      "source": [
        "# Gràfic circilar de la distribució del tipus de visita\n",
        "visit_type_distribution = hotel_data.groupby(['hotel', 'tipo'])['is_canceled'].count().reset_index()\n",
        "visit_type_distribution.rename(columns={'is_canceled': 'total_visits'}, inplace=True)\n",
        "\n",
        "fig8 = make_subplots(\n",
        "    rows=1,\n",
        "    cols=len(visit_type_distribution['hotel'].unique()),  # Una columna per tipus d'hotel\n",
        "    subplot_titles=[f\"{hotel_type}\" for hotel_type in visit_type_distribution['hotel'].unique()],\n",
        "    specs=[[{'type': 'domain'}] * len(visit_type_distribution['hotel'].unique())])\n",
        "\n",
        "for idx, hotel_type in enumerate(visit_type_distribution['hotel'].unique(), start=1):\n",
        "    hotel_subset = visit_type_distribution[visit_type_distribution['hotel'] == hotel_type]\n",
        "    fig8.add_trace(\n",
        "        go.Pie(labels=hotel_subset['tipo'], values=hotel_subset['total_visits'],\n",
        "               name=hotel_type, marker=dict(colors=px.colors.qualitative.Pastel)),\n",
        "        row=1, col=idx)\n",
        "\n",
        "fig8.update_layout(title_text=\"Tipus de visita segons el tipus d'hotel\")\n",
        "fig8.show()"
      ],
      "metadata": {
        "id": "nxTq-dC-tpHw"
      },
      "execution_count": null,
      "outputs": []
    },
    {
      "cell_type": "markdown",
      "source": [
        "# Visualització 9"
      ],
      "metadata": {
        "id": "yyrDWZz54nA4"
      }
    },
    {
      "cell_type": "code",
      "source": [
        "# Gràfic circilar de la proporció de visites amb infants\n",
        "hotel_data['has_children_babies'] = (hotel_data['children'] + hotel_data['babies'] > 0)\n",
        "hotel_data['has_children_babies'] = hotel_data['has_children_babies'].replace({True: 'Amb infants', False: 'Sense infants'})\n",
        "\n",
        "children_babies_proportion = hotel_data.groupby(['hotel', 'has_children_babies'])['count'].sum().reset_index()\n",
        "children_babies_proportion.rename(columns={'count': 'total_bookings'}, inplace=True)\n",
        "\n",
        "fig9 = make_subplots(\n",
        "    rows=1,\n",
        "    cols=len(children_babies_proportion['hotel'].unique()),\n",
        "    subplot_titles=[f\"{hotel_type}\" for hotel_type in children_babies_proportion['hotel'].unique()],\n",
        "    specs=[[{'type': 'domain'}] * len(children_babies_proportion['hotel'].unique())])\n",
        "\n",
        "for idx, hotel_type in enumerate(children_babies_proportion['hotel'].unique(), start=1):\n",
        "    hotel_data_subset = children_babies_proportion[children_babies_proportion['hotel'] == hotel_type]\n",
        "    fig9.add_trace(\n",
        "        go.Pie(labels=hotel_data_subset['has_children_babies'],\n",
        "               values=hotel_data_subset['total_bookings'],\n",
        "               name=hotel_type,\n",
        "               marker=dict(colors=px.colors.qualitative.Pastel)),\n",
        "        row=1, col=idx    )\n",
        "\n",
        "fig9.update_layout(\n",
        "    title_text=\"Proporció de reserves amb infants i sense per tipus d'hotel\")\n",
        "fig9.show()"
      ],
      "metadata": {
        "id": "LaXjlpzYnE0q"
      },
      "execution_count": null,
      "outputs": []
    },
    {
      "cell_type": "markdown",
      "source": [
        "# Visualització 10"
      ],
      "metadata": {
        "id": "6vZrXI_A5kWn"
      }
    },
    {
      "cell_type": "code",
      "source": [
        "# Mapa coropèctica del país d'origen\n",
        "country_distribution = hotel_data.groupby(\"country\")[\"count\"].sum().reset_index()\n",
        "country_distribution.columns = [\"country\", \"total_bookings\"]\n",
        "\n",
        "fig10 = px.choropleth(country_distribution, locations=\"country\", locationmode=\"ISO-3\",\n",
        "    color=\"total_bookings\", title=\"Distribució de reserves per país\",\n",
        "    color_continuous_scale=px.colors.sequential.Plasma)\n",
        "\n",
        "fig10.show()"
      ],
      "metadata": {
        "id": "Id1M00_GaT_B"
      },
      "execution_count": null,
      "outputs": []
    },
    {
      "cell_type": "markdown",
      "source": [
        "# Visualització 11"
      ],
      "metadata": {
        "id": "i5c7cwSV5nlV"
      }
    },
    {
      "cell_type": "code",
      "source": [
        "# Gràfic de barres apilades segons país d'origen i si la reservas s'ha cancel·lat o no\n",
        "min_reserves = 1000\n",
        "filtered_data = hotel_data.groupby(['country', 'hotel']).filter(lambda x: len(x) > min_reserves)\n",
        "\n",
        "total_reserves = filtered_data.groupby(['country', 'hotel'])['count'].sum().reset_index()\n",
        "total_reserves.rename(columns={'count': 'total_reserves'}, inplace=True)\n",
        "\n",
        "cancel_reserves = filtered_data[filtered_data['is_canceled'] == 1].groupby(['country', 'hotel'])['count'].sum().reset_index()\n",
        "cancel_reserves.rename(columns={'count': 'total_cancellations'}, inplace=True)\n",
        "\n",
        "proportion_data = pd.merge(total_reserves, cancel_reserves, on=['country', 'hotel'])\n",
        "\n",
        "fig11 = make_subplots(rows=1, cols=2,\n",
        "    subplot_titles=[f\"{hotel_type}\" for hotel_type in proportion_data['hotel'].unique()])\n",
        "\n",
        "for idx, hotel_type in enumerate(proportion_data['hotel'].unique(), start=1):\n",
        "\n",
        "    hotel_subset = proportion_data[proportion_data['hotel'] == hotel_type]\n",
        "    hotel_subset = hotel_subset.sort_values(by='total_reserves', ascending=False)\n",
        "\n",
        "    fig11.add_trace(go.Bar(\n",
        "        x=hotel_subset['country'],\n",
        "        y=hotel_subset['total_reserves'],\n",
        "        name='Reserves Totals',\n",
        "        marker_color='forestgreen',\n",
        "        showlegend=(idx == 1)\n",
        "    ), row=1, col=idx)\n",
        "\n",
        "    fig11.add_trace(go.Bar(\n",
        "        x=hotel_subset['country'],\n",
        "        y=hotel_subset['total_cancellations'],\n",
        "        name='Cancel·lacions',\n",
        "        marker_color='firebrick',\n",
        "        showlegend=(idx == 1)\n",
        "    ), row=1, col=idx)\n",
        "\n",
        "fig11.update_layout(title_text=\"Distribució de reserves i cancel·lacions per país i tipus d'hotel\",\n",
        "    barmode='stack')\n",
        "fig11.show()"
      ],
      "metadata": {
        "id": "rGa2q6lI6Rzm"
      },
      "execution_count": null,
      "outputs": []
    },
    {
      "cell_type": "markdown",
      "source": [
        "# Storytelling"
      ],
      "metadata": {
        "id": "_-iuRIkC9Asd"
      }
    },
    {
      "cell_type": "code",
      "source": [
        "!pip install dash\n",
        "!pip install jupyter-dash"
      ],
      "metadata": {
        "id": "z_yyxSDlasxx"
      },
      "execution_count": null,
      "outputs": []
    },
    {
      "cell_type": "code",
      "source": [
        "fig1.update_layout(height=450, width=862.5)\n",
        "fig2.update_layout(height=450, width=862.5)\n",
        "fig3.update_layout(height=450, width=862.5)\n",
        "fig4.update_layout(height=450, width=862.5)\n",
        "fig5.update_layout(height=450, width=862.5)\n",
        "fig6.update_layout(height=450, width=862.5)\n",
        "fig7.update_layout(height=450, width=862.5)\n",
        "fig8.update_layout(height=450, width=1725)\n",
        "fig9.update_layout(height=450, width=862.5)\n",
        "fig10.update_layout(height=450, width=1725)\n",
        "fig11.update_layout(height=450, width=1725)"
      ],
      "metadata": {
        "id": "JsqWhp0IDerM"
      },
      "execution_count": null,
      "outputs": []
    },
    {
      "cell_type": "code",
      "source": [
        "from dash import Dash, dcc, html\n",
        "\n",
        "# Inicialitza l'aplicació Dash\n",
        "app = Dash(__name__)\n",
        "\n",
        "# Layout de l'aplicació\n",
        "app.layout = html.Div([\n",
        "    html.H1(\"Anàlisi de Reserves Hoteleres\", style={'textAlign': 'center'}),\n",
        "    dcc.Tabs([\n",
        "        # Pestanya amb fig1 i fig4\n",
        "        dcc.Tab(label=\"Reserves totals i cancel·lacions\", children=[\n",
        "            html.Div([\n",
        "                dcc.Graph(figure=fig1, style={'flex': '1'}),\n",
        "                dcc.Graph(figure=fig4, style={'flex': '1'})\n",
        "            ], style={'display': 'flex', 'justify-content': 'space-between'})\n",
        "        ]),\n",
        "        # Pestanya amb fig5, fig6, fig7 i fig9\n",
        "        dcc.Tab(label=\"Dades de les estades\", children=[\n",
        "            html.Div([\n",
        "                html.Div([\n",
        "                    dcc.Graph(figure=fig5, style={'flex': '1'}),\n",
        "                    dcc.Graph(figure=fig6, style={'flex': '1'})\n",
        "                ], style={'display': 'flex', 'justify-content': 'space-between', 'margin-bottom': '20px'}),\n",
        "                html.Div([\n",
        "                    dcc.Graph(figure=fig7, style={'flex': '1'}),\n",
        "                    dcc.Graph(figure=fig9, style={'flex': '1'})\n",
        "                ], style={'display': 'flex', 'justify-content': 'space-between'})\n",
        "            ])\n",
        "        ]),\n",
        "        # Pestanya amb fig8\n",
        "        dcc.Tab(label=\"Tipus de visita\", children=[\n",
        "            dcc.Graph(figure=fig8, style={'width': '100%'})\n",
        "         ]),\n",
        "        # Pestanya amb fig2 i fig3\n",
        "        dcc.Tab(label=\"Tendències anuals i mensuals\", children=[\n",
        "            html.Div([\n",
        "                dcc.Graph(figure=fig2, style={'flex': '1'}),\n",
        "                dcc.Graph(figure=fig3, style={'flex': '1'})\n",
        "            ], style={'display': 'flex', 'justify-content': 'space-between'})\n",
        "        ]),\n",
        "        # Pestanya amb fig10\n",
        "        dcc.Tab(label=\"País d'origen\", children=[\n",
        "            dcc.Graph(figure=fig10, style={'width': '100%'})\n",
        "        ]),\n",
        "        # Pestanya amb fig11\n",
        "        dcc.Tab(label=\"Distribució de les cancel·lacions per país\", children=[\n",
        "                dcc.Graph(figure=fig11, style={'width': '100%'})\n",
        "        ])\n",
        "    ])\n",
        "])\n",
        "\n",
        "# Executa l'aplicació\n",
        "if __name__ == '__main__':\n",
        "    app.run_server(debug=True)"
      ],
      "metadata": {
        "id": "NMNNUKqhqHil"
      },
      "execution_count": null,
      "outputs": []
    }
  ]
}